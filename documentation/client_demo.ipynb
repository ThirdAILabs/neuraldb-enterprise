{
 "cells": [
  {
   "cell_type": "markdown",
   "metadata": {},
   "source": [
    "# Python Client"
   ]
  },
  {
   "cell_type": "markdown",
   "metadata": {},
   "source": [
    "#### Import ModelBazaar class."
   ]
  },
  {
   "cell_type": "code",
   "execution_count": null,
   "metadata": {},
   "outputs": [],
   "source": [
    "import thirdai\n",
    "from thirdai.neural_db import ModelBazaar\n",
    "\n",
    "# Activate your license\n",
    "thirdai.licensing.activate(\"YOUR-THIRDAI-ACTIVATION-KEY\")"
   ]
  },
  {
   "cell_type": "markdown",
   "metadata": {},
   "source": [
    "### Initialise a ModelBazaar object with url where model_bazaar is hosted."
   ]
  },
  {
   "cell_type": "code",
   "execution_count": null,
   "metadata": {},
   "outputs": [],
   "source": [
    "bazaar = ModelBazaar(base_url=\"http://<headnode-ip>/api/\")"
   ]
  },
  {
   "cell_type": "markdown",
   "metadata": {},
   "source": [
    "### Sign up"
   ]
  },
  {
   "cell_type": "code",
   "execution_count": null,
   "metadata": {},
   "outputs": [],
   "source": [
    "# Sends a email verification link.\n",
    "bazaar.sign_up(email=\"your-mail-id@domain.com\", password=\"password\", username=\"username\")"
   ]
  },
  {
   "cell_type": "markdown",
   "metadata": {},
   "source": [
    "### Login"
   ]
  },
  {
   "cell_type": "code",
   "execution_count": null,
   "metadata": {},
   "outputs": [],
   "source": [
    "bazaar.log_in(email=\"your-mail-id@domain.com\", password=\"password\")"
   ]
  },
  {
   "cell_type": "markdown",
   "metadata": {},
   "source": [
    "### Creates a model from scratch on ModelBazaar -- trained on given list of documents."
   ]
  },
  {
   "cell_type": "code",
   "execution_count": null,
   "metadata": {},
   "outputs": [],
   "source": [
    "# Can be synchronous or asynchronous(default; in which case we call await_train)\n",
    "# `doc_type` can be \"local\"(default), \"nfs\" or \"s3\".\n",
    "model = bazaar.train(\n",
    "    model_name=\"model-1\",\n",
    "    docs=[\"/path/to/fileA\", \"/path/to/fileB\"],\n",
    "    doc_type=\"local\",\n",
    "    is_async=True,\n",
    ")"
   ]
  },
  {
   "cell_type": "markdown",
   "metadata": {},
   "source": [
    "### Blocking call to wait till model finishes training."
   ]
  },
  {
   "cell_type": "code",
   "execution_count": null,
   "metadata": {},
   "outputs": [],
   "source": [
    "bazaar.await_train(model)"
   ]
  },
  {
   "cell_type": "markdown",
   "metadata": {},
   "source": [
    "### Deploys the model and returns an ndb_client which can be used to interact with deployed neural_db model."
   ]
  },
  {
   "cell_type": "code",
   "execution_count": null,
   "metadata": {},
   "outputs": [],
   "source": [
    "# Can be synchronous or asynchronous(default; in which case we call await_deploy)\n",
    "ndb_client = bazaar.deploy(\n",
    "    model_identifier=model.model_identifier,\n",
    "    deployment_name=\"deployment-1\",\n",
    "    is_async=True,\n",
    ")"
   ]
  },
  {
   "cell_type": "markdown",
   "metadata": {},
   "source": [
    "### Blocking call to wait till deployment finishes."
   ]
  },
  {
   "cell_type": "code",
   "execution_count": null,
   "metadata": {},
   "outputs": [],
   "source": [
    "bazaar.await_deploy(ndb_client)"
   ]
  },
  {
   "cell_type": "markdown",
   "metadata": {},
   "source": [
    "### Insert new files to index in the deployed neural_db model."
   ]
  },
  {
   "cell_type": "code",
   "execution_count": null,
   "metadata": {},
   "outputs": [],
   "source": [
    "ndb_client.insert(\n",
    "    files=[\"/path/to/fileC\", \"/path/to/fileD\"]\n",
    ")"
   ]
  },
  {
   "cell_type": "markdown",
   "metadata": {},
   "source": [
    "### Search the ndb model."
   ]
  },
  {
   "cell_type": "code",
   "execution_count": null,
   "metadata": {},
   "outputs": [],
   "source": [
    "results = ndb_client.search(query=\"who are the authors\", top_k=\"5\")\n",
    "\n",
    "query_id = results[\"query_id\"]\n",
    "query_text = results[\"query_text\"]\n",
    "references = results[\"references\"]\n",
    "for reference in references:\n",
    "    print(reference[\"text\"])"
   ]
  },
  {
   "cell_type": "code",
   "execution_count": null,
   "metadata": {},
   "outputs": [],
   "source": [
    "# [RLHF] Associate queries to teach your model what are similar queries.\n",
    "ndb_client.associate(\n",
    "    text_pairs=[\n",
    "                    {\"source\": \"authors\", \"target\": \"contributors\"},\n",
    "                    {\"source\": \"paper\", \"target\": \"document\"},\n",
    "                ]\n",
    ")"
   ]
  },
  {
   "cell_type": "markdown",
   "metadata": {},
   "source": [
    "### Associate the text pairs"
   ]
  },
  {
   "cell_type": "code",
   "execution_count": null,
   "metadata": {},
   "outputs": [],
   "source": [
    "best_answer = references[4]\n",
    "good_answer = references[2]\n",
    "ndb_client.upvote(\n",
    "    [\n",
    "        {\"query_text\": query_text, \"reference_id\": best_answer[\"id\"]},\n",
    "        {\"query_text\": query_text, \"reference_id\": good_answer[\"id\"]},\n",
    "    ]\n",
    ")"
   ]
  },
  {
   "cell_type": "markdown",
   "metadata": {},
   "source": [
    "### Undeploys the model."
   ]
  },
  {
   "cell_type": "code",
   "execution_count": null,
   "metadata": {},
   "outputs": [],
   "source": [
    "bazaar.undeploy(ndb_client)"
   ]
  },
  {
   "cell_type": "markdown",
   "metadata": {},
   "source": [
    "### Deletes the model from model bazaar."
   ]
  },
  {
   "cell_type": "code",
   "execution_count": null,
   "metadata": {},
   "outputs": [],
   "source": [
    "# Use `list_models()` to find models on ModelBazaar and their identifiers.\n",
    "# example model_identifier : \"model-author/model-name\"\n",
    "bazaar.delete(model_identifier=model.model_identifier)"
   ]
  },
  {
   "cell_type": "markdown",
   "metadata": {},
   "source": [
    "### Return a list of models accessible to user on model bazaar."
   ]
  },
  {
   "cell_type": "code",
   "execution_count": null,
   "metadata": {},
   "outputs": [],
   "source": [
    "# Each model contains an attribute `model_identifier` to uniquely identify the model.\n",
    "bazaar.list_models()"
   ]
  },
  {
   "cell_type": "markdown",
   "metadata": {},
   "source": [
    "### Returns a list of all active deployments."
   ]
  },
  {
   "cell_type": "code",
   "execution_count": null,
   "metadata": {},
   "outputs": [],
   "source": [
    "# Each deployment contains an attribute `deployment_identifier` to uniquely identify the deployment.\n",
    "bazaar.list_deployments()"
   ]
  },
  {
   "cell_type": "markdown",
   "metadata": {},
   "source": [
    "### Connects to an active deployment."
   ]
  },
  {
   "cell_type": "code",
   "execution_count": null,
   "metadata": {},
   "outputs": [],
   "source": [
    "# Use `list_deployments()` to find active deployments and their identifiers.\n",
    "# example deployment_identifier : \"model-author/model-name:deployment-author/deployment-name\"\n",
    "ndb_client = bazaar.connect(deployment_identifier=\"your-deployment-identifier\")"
   ]
  },
  {
   "cell_type": "markdown",
   "metadata": {},
   "source": [
    "### Push a local NDB model to model bazaar."
   ]
  },
  {
   "cell_type": "code",
   "execution_count": null,
   "metadata": {},
   "outputs": [],
   "source": [
    "bazaar.push_model(\n",
    "    model_name=\"test-upload\",\n",
    "    local_path=\"path/local/ndb/model.ndb\",\n",
    "    access_level=\"private\",\n",
    ")"
   ]
  },
  {
   "cell_type": "markdown",
   "metadata": {},
   "source": [
    "### Pull model from model bazaar to local."
   ]
  },
  {
   "cell_type": "code",
   "execution_count": null,
   "metadata": {},
   "outputs": [],
   "source": [
    "# Remember, this is your local ndb_model, not the remote deployed one.\n",
    "ndb_model = bazaar.pull_model(model_identifier=\"your-model-identifer\")"
   ]
  }
 ],
 "metadata": {
  "kernelspec": {
   "display_name": "py_3.9",
   "language": "python",
   "name": "python3"
  },
  "language_info": {
   "codemirror_mode": {
    "name": "ipython",
    "version": 3
   },
   "file_extension": ".py",
   "mimetype": "text/x-python",
   "name": "python",
   "nbconvert_exporter": "python",
   "pygments_lexer": "ipython3",
   "version": "3.11.6"
  }
 },
 "nbformat": 4,
 "nbformat_minor": 2
}
