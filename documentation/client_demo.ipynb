{
 "cells": [
  {
   "cell_type": "markdown",
   "metadata": {},
   "source": [
    "# NeuralDB Python Client"
   ]
  },
  {
   "cell_type": "markdown",
   "metadata": {},
   "source": [
    "## Necessary imports and License Activation"
   ]
  },
  {
   "cell_type": "code",
   "execution_count": null,
   "metadata": {},
   "outputs": [],
   "source": [
    "# Import ModelBazaar class.\n",
    "import thirdai\n",
    "from thirdai.neural_db import ModelBazaar\n",
    "\n",
    "# Activate your license\n",
    "thirdai.licensing.activate(\"YOUR-THIRDAI-ACTIVATION-KEY\")"
   ]
  },
  {
   "cell_type": "markdown",
   "metadata": {},
   "source": [
    "## Initialise ModelBazaar"
   ]
  },
  {
   "cell_type": "code",
   "execution_count": null,
   "metadata": {},
   "outputs": [],
   "source": [
    "# Initialise a ModelBazaar object with url where model_bazaar is hosted. \n",
    "# Append `/api/` in the url.\n",
    "bazaar = ModelBazaar(base_url=\"http://YOUR-NEURALDB-ENTERPRISE-IP/api/\")"
   ]
  },
  {
   "cell_type": "markdown",
   "metadata": {},
   "source": [
    "## New user sign-up"
   ]
  },
  {
   "cell_type": "code",
   "execution_count": null,
   "metadata": {},
   "outputs": [],
   "source": [
    "# One-time signup for new users on model bazaar. Sends a email verification link.\n",
    "# Admin is automatically signed up at cluster initialization.\n",
    "bazaar.sign_up(email=\"your-mail-id@domain.com\", password=\"password\", username=\"username\")"
   ]
  },
  {
   "cell_type": "markdown",
   "metadata": {},
   "source": [
    "## User Login"
   ]
  },
  {
   "cell_type": "code",
   "execution_count": null,
   "metadata": {},
   "outputs": [],
   "source": [
    "# Login with your email_id and password.\n",
    "bazaar.log_in(email=\"your-mail-id@domain.com\", password=\"password\")"
   ]
  },
  {
   "cell_type": "markdown",
   "metadata": {},
   "source": [
    "## Create and train models on ModelBazaar\n",
    "\n",
    "Models created on ModelBazaar can be trained as a single model or a mixture of models (preferable in case of large documents). \n",
    "\n",
    "### 1. Single Model training"
   ]
  },
  {
   "cell_type": "code",
   "execution_count": null,
   "metadata": {},
   "outputs": [],
   "source": [
    "'''\n",
    "Creates a model from scratch on ModelBazaar and trains it on given list of documents.\n",
    "Can be synchronous or asynchronous(default; in which case we call await_train)\n",
    "`doc_type` describes the file location: \"local\"(default), \"nfs\" or \"s3\".\n",
    "'''\n",
    "model = bazaar.train(\n",
    "    model_name=\"model-1\",\n",
    "    unsupervised_docs=[\"/path/to/fileA\"], # Path to the unsupervised documents\n",
    "    supervised_docs=[\"/path/to/fileB\",\"source_id\"], # Its a tuple of supervised file path and the corresponding source id of the unsupervised file it corresponds to.\n",
    "    test_doc=\"/path/to/fileC\",\n",
    "    doc_type=\"local\",\n",
    "    is_async=True,\n",
    ")"
   ]
  },
  {
   "cell_type": "markdown",
   "metadata": {},
   "source": [
    "### 2. Mixture of Models training"
   ]
  },
  {
   "cell_type": "code",
   "execution_count": null,
   "metadata": {},
   "outputs": [],
   "source": [
    "'''\n",
    "`train_extra_options` describes required parameters of sharded training :\n",
    "    1. num_model_shards : number of shards in which data is divided; one model trains on each data shard.\n",
    "    2. allocation_memory: amount of memory(in MBs) to assign for data sharding job. (Suggested : 10x data size)\n",
    "    3. model_cores      : cpu cores to be allocated for each model train job.\n",
    "    4. model_memory     : amount of memory(in MBs) to assign for each data train job.\n",
    "    5. fhr              : input_dimension for individual model.\n",
    "    6. embedding_dim    : hidden_dimension for individual model.\n",
    "    7. output_dim       : output_dimension for individual model.\n",
    "    8. max_in_memory_batches    : number of batches to train in one iteration.\n",
    "    9. priority         : priority (between 1-100) of train_jobs. Higher value means greater priority. (default: 50)\n",
    "\n",
    "    * In case of using .csv documents, user must provide required values for `csv_*` fields.\n",
    "'''\n",
    "train_extra_options = {\n",
    "    \"num_model_shards\": 10,\n",
    "    \"allocation_memory\": 300000,\n",
    "    #   ---shard agnostic training params---\n",
    "    \"model_cores\": 20,\n",
    "    \"model_memory\": 200000,\n",
    "    \"csv_id_column\": \"id\",\n",
    "    \"csv_strong_columns\": [\"title\"],\n",
    "    \"csv_weak_columns\": [\"abstract\"],\n",
    "    \"csv_reference_columns\": [\"title\", \"abstract\"],\n",
    "    \"fhr\": 200000,\n",
    "    \"embedding_dim\": 4096,\n",
    "    \"output_dim\": 100000,\n",
    "    \"max_in_memory_batches\": 100,\n",
    "    \"priority\": 50\n",
    "}\n",
    "\n",
    "model = bazaar.train(\n",
    "    model_name=\"mixture-model-1\",\n",
    "    docs=[\"/model_bazaar/datasets/pubmed/complete_pubmed_dataset.csv\"],\n",
    "    doc_type=\"nfs\",\n",
    "    sharded=True,\n",
    "    is_async=True,\n",
    "    train_extra_options=train_extra_options,\n",
    ")"
   ]
  },
  {
   "cell_type": "markdown",
   "metadata": {},
   "source": [
    "## Blocking call to wait for model training"
   ]
  },
  {
   "cell_type": "code",
   "execution_count": null,
   "metadata": {},
   "outputs": [],
   "source": [
    "bazaar.await_train(model)"
   ]
  },
  {
   "cell_type": "markdown",
   "metadata": {},
   "source": [
    "## Deploy models from ModelBazaar"
   ]
  },
  {
   "cell_type": "code",
   "execution_count": null,
   "metadata": {},
   "outputs": [],
   "source": [
    "# Deploys the model and returns an ndb_client which can be used to query/re-index/RLHF.\n",
    "# Can be synchronous or asynchronous(default; in which case we call await_deploy)\n",
    "ndb_client = bazaar.deploy(\n",
    "    model_identifier=model.model_identifier,\n",
    "    deployment_name=\"deployment-1\",\n",
    "    is_async=True,\n",
    ")"
   ]
  },
  {
   "cell_type": "markdown",
   "metadata": {},
   "source": [
    "## Blocking call to wait for deployment."
   ]
  },
  {
   "cell_type": "code",
   "execution_count": null,
   "metadata": {},
   "outputs": [],
   "source": [
    "bazaar.await_deploy(ndb_client)"
   ]
  },
  {
   "cell_type": "markdown",
   "metadata": {},
   "source": [
    "## Insert new files to index in the deployed neural_db model."
   ]
  },
  {
   "cell_type": "code",
   "execution_count": null,
   "metadata": {},
   "outputs": [],
   "source": [
    "\n",
    "ndb_client.insert(\n",
    "    documents=[\n",
    "        {\"document_type\": \"PDF\", \"path\": \"/path/to/temp.pdf\", \"location\": \"local\"}, \n",
    "        {\"document_type\": \"CSV\", \"path\": \"/path/to/temp.csv\", \"location\": \"local\"}\n",
    "    ]\n",
    ")"
   ]
  },
  {
   "cell_type": "markdown",
   "metadata": {},
   "source": [
    "## Query the NDB model"
   ]
  },
  {
   "cell_type": "code",
   "execution_count": null,
   "metadata": {},
   "outputs": [],
   "source": [
    "# Search the ndb model.\n",
    "results = ndb_client.search(query=\"who are the authors of this paper\", top_k=\"5\")\n",
    "\n",
    "query_text = results[\"query_text\"]\n",
    "references = results[\"references\"]\n",
    "for reference in references:\n",
    "    print(reference[\"text\"])"
   ]
  },
  {
   "cell_type": "markdown",
   "metadata": {},
   "source": [
    "## RLFH features :\n",
    "\n",
    "### 1. Associate"
   ]
  },
  {
   "cell_type": "code",
   "execution_count": null,
   "metadata": {},
   "outputs": [],
   "source": [
    "# [RLHF] Associate : takes list of dictionaries where each dictionary has 'source' and 'target' keys.\n",
    "ndb_client.associate(\n",
    "    [\n",
    "        {\"source\": \"authors\", \"target\": \"contributors\"},\n",
    "        {\"source\": \"paper\", \"target\": \"document\"},\n",
    "    ]\n",
    ")"
   ]
  },
  {
   "cell_type": "markdown",
   "metadata": {},
   "source": [
    "### 2. Upvote/Downvote"
   ]
  },
  {
   "cell_type": "code",
   "execution_count": null,
   "metadata": {},
   "outputs": [],
   "source": [
    "# [RLHF] Upvote/Downvote : takes list of dictionaries where each dictionary has 'query_text' and 'reference_id' keys.\n",
    "best_answer = references[4]\n",
    "good_answer = references[2]\n",
    "ndb_client.upvote(\n",
    "    [\n",
    "        {\"query_text\": query_text, \"reference_id\": best_answer[\"id\"]},\n",
    "        {\"query_text\": query_text, \"reference_id\": good_answer[\"id\"]},\n",
    "    ]\n",
    ")"
   ]
  },
  {
   "cell_type": "markdown",
   "metadata": {},
   "source": [
    "## Undeploy models"
   ]
  },
  {
   "cell_type": "code",
   "execution_count": null,
   "metadata": {},
   "outputs": [],
   "source": [
    "bazaar.undeploy(ndb_client)"
   ]
  },
  {
   "cell_type": "markdown",
   "metadata": {},
   "source": [
    "## Deletes the model from model bazaar."
   ]
  },
  {
   "cell_type": "code",
   "execution_count": null,
   "metadata": {},
   "outputs": [],
   "source": [
    "# Use `list_models()` to find models on ModelBazaar and their identifiers.\n",
    "# example model_identifier : \"model-author/model-name\"\n",
    "bazaar.delete(model_identifier=model.model_identifier)"
   ]
  },
  {
   "cell_type": "markdown",
   "metadata": {},
   "source": [
    "## List models and active deployments"
   ]
  },
  {
   "cell_type": "code",
   "execution_count": null,
   "metadata": {},
   "outputs": [],
   "source": [
    "# Return a list of models accessible to user on model bazaar.\n",
    "# Each model contains an attribute `model_identifier` to uniquely identify the model.\n",
    "bazaar.list_models()"
   ]
  },
  {
   "cell_type": "code",
   "execution_count": null,
   "metadata": {},
   "outputs": [],
   "source": [
    "# Returns a list of all active deployments.\n",
    "# Each deployment contains an attribute `deployment_identifier` to uniquely identify the deployment.\n",
    "bazaar.list_deployments()"
   ]
  },
  {
   "cell_type": "markdown",
   "metadata": {},
   "source": [
    "## Connect to existing active deployment"
   ]
  },
  {
   "cell_type": "code",
   "execution_count": null,
   "metadata": {},
   "outputs": [],
   "source": [
    "# Use `list_deployments()` to find active deployments and their identifiers.\n",
    "# example deployment_identifier : \"model-author/model-name:deployment-author/deployment-name\"\n",
    "ndb_client = bazaar.connect(deployment_identifier=\"your-deployment-identifier\")"
   ]
  },
  {
   "cell_type": "markdown",
   "metadata": {},
   "source": [
    "## Push your local NDB model to model bazaar."
   ]
  },
  {
   "cell_type": "code",
   "execution_count": null,
   "metadata": {},
   "outputs": [],
   "source": [
    "bazaar.push_model(\n",
    "    model_name=\"test-upload\",\n",
    "    local_path=\"path/local/ndb/model.ndb\",\n",
    "    access_level=\"private\",\n",
    ")"
   ]
  },
  {
   "cell_type": "markdown",
   "metadata": {},
   "source": [
    "## Pull NDB model from model bazaar to local."
   ]
  },
  {
   "cell_type": "code",
   "execution_count": null,
   "metadata": {},
   "outputs": [],
   "source": [
    "# Remember, this is your local `ndb_model`, not the remote deployed one.\n",
    "ndb_model = bazaar.pull_model(model_identifier=\"mj3ai/model-1\")"
   ]
  }
 ],
 "metadata": {
  "kernelspec": {
   "display_name": "py_3.9",
   "language": "python",
   "name": "python3"
  },
  "language_info": {
   "codemirror_mode": {
    "name": "ipython",
    "version": 3
   },
   "file_extension": ".py",
   "mimetype": "text/x-python",
   "name": "python",
   "nbconvert_exporter": "python",
   "pygments_lexer": "ipython3",
   "version": "3.9.16"
  }
 },
 "nbformat": 4,
 "nbformat_minor": 2
}
