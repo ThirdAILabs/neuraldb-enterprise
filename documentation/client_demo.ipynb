{
 "cells": [
  {
   "cell_type": "markdown",
   "metadata": {},
   "source": [
    "# Python Client"
   ]
  },
  {
   "cell_type": "code",
   "execution_count": null,
   "metadata": {},
   "outputs": [],
   "source": [
    "# Import ModelBazaar class.\n",
    "import thirdai\n",
    "from thirdai.neural_db import ModelBazaar\n",
    "\n",
    "# Activate your license\n",
    "thirdai.licensing.activate(\"YOUR-THIRDAI-ACTIVATION-KEY\")"
   ]
  },
  {
   "cell_type": "code",
   "execution_count": null,
   "metadata": {},
   "outputs": [],
   "source": [
    "# Initialise a ModelBazaar object with url where model_bazaar is hosted.\n",
    "# Append `/api/` in the url.\n",
    "bazaar = ModelBazaar(base_url=\"http://YOUR-NEURALDB-ENTERPRISE-IP/api/\")"
   ]
  },
  {
   "cell_type": "code",
   "execution_count": null,
   "metadata": {},
   "outputs": [],
   "source": [
    "# Used to one-time signup on model bazaar. Sends a email verification link.\n",
    "bazaar.sign_up(email=\"your-mail-id@domain.com\", password=\"password\", username=\"username\")"
   ]
  },
  {
   "cell_type": "code",
   "execution_count": null,
   "metadata": {},
   "outputs": [],
   "source": [
    "# Login with your email_id and password.\n",
    "bazaar.log_in(email=\"your-mail-id@domain.com\", password=\"password\")"
   ]
  },
  {
   "cell_type": "code",
   "execution_count": null,
   "metadata": {},
   "outputs": [],
   "source": [
    "# Creates a model from scratch on ModelBazaar -- trained on given list of documents.\n",
    "# Can be synchronous or asynchronous(default; in which case we call await_train)\n",
    "model = bazaar.train(\n",
    "    model_name=\"model-1\",\n",
    "    docs=[\"/path/to/fileA\", \"/path/to/fileB\"],\n",
    "    is_async=True,\n",
    ")"
   ]
  },
  {
   "cell_type": "code",
   "execution_count": null,
   "metadata": {},
   "outputs": [],
   "source": [
    "# Blocking call to wait till model finishes training.\n",
    "bazaar.await_train(model)"
   ]
  },
  {
   "cell_type": "code",
   "execution_count": null,
   "metadata": {},
   "outputs": [],
   "source": [
    "# Deploys the model and returns an ndb_client which can be used to interact with deployed neural_db model.\n",
    "# Can be synchronous or asynchronous(default; in which case we call await_deploy)\n",
    "ndb_client = bazaar.deploy(\n",
    "    model_identifier=model.model_identifier,\n",
    "    deployment_name=\"deployment-1\",\n",
    "    is_async=True,\n",
    ")"
   ]
  },
  {
   "cell_type": "code",
   "execution_count": null,
   "metadata": {},
   "outputs": [],
   "source": [
    "# Blocking call to wait till deployment finishes.\n",
    "bazaar.await_deploy(ndb_client)"
   ]
  },
  {
   "cell_type": "code",
   "execution_count": null,
   "metadata": {},
   "outputs": [],
   "source": [
    "# Insert new files to index in the deployed neural_db model.\n",
    "ndb_client.insert(\n",
    "    files=[\"/path/to/fileC\", \"/path/to/fileD\"]\n",
    ")"
   ]
  },
  {
   "cell_type": "code",
   "execution_count": null,
   "metadata": {},
   "outputs": [],
   "source": [
    "# Search the ndb model.\n",
    "results = ndb_client.search(query=\"who are the authors\", top_k=\"5\")\n",
    "\n",
    "query_id = results[\"query_id\"]\n",
    "query_text = results[\"query_text\"]\n",
    "references = results[\"references\"]\n",
    "for reference in references:\n",
    "    print(reference[\"text\"])"
   ]
  },
  {
   "cell_type": "code",
   "execution_count": null,
   "metadata": {},
   "outputs": [],
   "source": [
    "# [RLFF] Associate queries to teach your model what are similar queries.\n",
    "ndb_client.associate(query1=\"authors\", query2=\"contributors\")"
   ]
  },
  {
   "cell_type": "code",
   "execution_count": null,
   "metadata": {},
   "outputs": [],
   "source": [
    "# [RLHF] Upvote/Downvote an answer to teach your model.\n",
    "best_answer = references[4]\n",
    "ndb_client.upvote(query_id=query_id, query_text=query_text, reference=best_answer)"
   ]
  },
  {
   "cell_type": "code",
   "execution_count": null,
   "metadata": {},
   "outputs": [],
   "source": [
    "# Undeploys the model.\n",
    "bazaar.undeploy(ndb_client)"
   ]
  },
  {
   "cell_type": "code",
   "execution_count": null,
   "metadata": {},
   "outputs": [],
   "source": [
    "# Deletes the model from model bazaar.\n",
    "# Use `list_models()` to find models on ModelBazaar and their identifiers.\n",
    "# example model_identifier : \"model-author/model-name\"\n",
    "bazaar.delete(model_identifier=model.model_identifier)"
   ]
  },
  {
   "cell_type": "code",
   "execution_count": null,
   "metadata": {},
   "outputs": [],
   "source": [
    "# Return a list of models accessible to user on model bazaar.\n",
    "# Each model contains an attribute `model_identifier` to uniquely identify the model.\n",
    "bazaar.list_models()"
   ]
  },
  {
   "cell_type": "code",
   "execution_count": null,
   "metadata": {},
   "outputs": [],
   "source": [
    "# Returns a list of all active deployments.\n",
    "# Each deployment contains an attribute `deployment_identifier` to uniquely identify the deployment.\n",
    "bazaar.list_deployments()"
   ]
  },
  {
   "cell_type": "code",
   "execution_count": null,
   "metadata": {},
   "outputs": [],
   "source": [
    "# Connects to an active deployment.\n",
    "# Use `list_deployments()` to find active deployments and their identifiers.\n",
    "# example deployment_identifier : \"model-author/model-name:deployment-author/deployment-name\"\n",
    "ndb_client = bazaar.connect(deployment_identifier=\"your-deployment-identifier\")"
   ]
  },
  {
   "cell_type": "code",
   "execution_count": null,
   "metadata": {},
   "outputs": [],
   "source": [
    "# Push a local NDB model to model bazaar.\n",
    "bazaar.push_model(\n",
    "    model_name=\"test-upload\",\n",
    "    local_path=\"path/local/ndb/model.ndb\",\n",
    "    access_level=\"private\",\n",
    ")"
   ]
  },
  {
   "cell_type": "code",
   "execution_count": null,
   "metadata": {},
   "outputs": [],
   "source": [
    "# Pull model from model bazaar to local.\n",
    "# Remember, this is your local ndb_model, not the remote deployed one.\n",
    "ndb_model = bazaar.pull_model(model_identifier=\"mj3ai/model-1\")"
   ]
  }
 ],
 "metadata": {
  "kernelspec": {
   "display_name": "py_3.9",
   "language": "python",
   "name": "python3"
  },
  "language_info": {
   "codemirror_mode": {
    "name": "ipython",
    "version": 3
   },
   "file_extension": ".py",
   "mimetype": "text/x-python",
   "name": "python",
   "nbconvert_exporter": "python",
   "pygments_lexer": "ipython3",
   "version": "3.9.16"
  }
 },
 "nbformat": 4,
 "nbformat_minor": 2
}
