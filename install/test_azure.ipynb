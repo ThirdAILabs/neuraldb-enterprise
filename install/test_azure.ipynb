{
 "cells": [
  {
   "cell_type": "code",
   "execution_count": 3,
   "metadata": {},
   "outputs": [
    {
     "name": "stdout",
     "output_type": "stream",
     "text": [
      "\u001b[33mWARNING: Ignoring invalid distribution - (/Users/pratikqpranav/.pyenv/versions/3.9.13/lib/python3.9/site-packages)\u001b[0m\u001b[33m\n",
      "\u001b[0m\u001b[33mWARNING: Ignoring invalid distribution -irdai (/Users/pratikqpranav/.pyenv/versions/3.9.13/lib/python3.9/site-packages)\u001b[0m\u001b[33m\n",
      "\u001b[0m\u001b[33mWARNING: Ignoring invalid distribution -hirdai (/Users/pratikqpranav/.pyenv/versions/3.9.13/lib/python3.9/site-packages)\u001b[0m\u001b[33m\n",
      "\u001b[0m\u001b[33mWARNING: Ignoring invalid distribution -umpy (/Users/pratikqpranav/.pyenv/versions/3.9.13/lib/python3.9/site-packages)\u001b[0m\u001b[33m\n",
      "\u001b[0m\u001b[33mWARNING: Ignoring invalid distribution -irdai (/Users/pratikqpranav/.pyenv/versions/3.9.13/lib/python3.9/site-packages)\u001b[0m\u001b[33m\n",
      "\u001b[0mCollecting azure-mgmt-resource\n",
      "  Downloading azure_mgmt_resource-23.1.1-py3-none-any.whl (2.6 MB)\n",
      "\u001b[2K     \u001b[90m━━━━━━━━━━━━━━━━━━━━━━━━━━━━━━━━━━━━━━━━\u001b[0m \u001b[32m2.6/2.6 MB\u001b[0m \u001b[31m21.4 MB/s\u001b[0m eta \u001b[36m0:00:00\u001b[0m00:01\u001b[0m00:01\u001b[0m\n",
      "\u001b[?25hCollecting isodate>=0.6.1 (from azure-mgmt-resource)\n",
      "  Using cached isodate-0.6.1-py2.py3-none-any.whl (41 kB)\n",
      "Collecting azure-common>=1.1 (from azure-mgmt-resource)\n",
      "  Downloading azure_common-1.1.28-py2.py3-none-any.whl (14 kB)\n",
      "Collecting azure-mgmt-core>=1.3.2 (from azure-mgmt-resource)\n",
      "  Downloading azure_mgmt_core-1.4.0-py3-none-any.whl (27 kB)\n",
      "Collecting azure-core<2.0.0,>=1.26.2 (from azure-mgmt-core>=1.3.2->azure-mgmt-resource)\n",
      "  Downloading azure_core-1.30.2-py3-none-any.whl (194 kB)\n",
      "\u001b[2K     \u001b[90m━━━━━━━━━━━━━━━━━━━━━━━━━━━━━━━━━━━━━━\u001b[0m \u001b[32m194.3/194.3 kB\u001b[0m \u001b[31m22.3 MB/s\u001b[0m eta \u001b[36m0:00:00\u001b[0m\n",
      "\u001b[?25hRequirement already satisfied: six in /Users/pratikqpranav/.pyenv/versions/3.9.13/lib/python3.9/site-packages (from isodate>=0.6.1->azure-mgmt-resource) (1.16.0)\n",
      "Requirement already satisfied: requests>=2.21.0 in /Users/pratikqpranav/.pyenv/versions/3.9.13/lib/python3.9/site-packages (from azure-core<2.0.0,>=1.26.2->azure-mgmt-core>=1.3.2->azure-mgmt-resource) (2.28.1)\n",
      "Collecting typing-extensions>=4.6.0 (from azure-core<2.0.0,>=1.26.2->azure-mgmt-core>=1.3.2->azure-mgmt-resource)\n",
      "  Using cached typing_extensions-4.12.2-py3-none-any.whl (37 kB)\n",
      "Requirement already satisfied: charset-normalizer<3,>=2 in /Users/pratikqpranav/.pyenv/versions/3.9.13/lib/python3.9/site-packages (from requests>=2.21.0->azure-core<2.0.0,>=1.26.2->azure-mgmt-core>=1.3.2->azure-mgmt-resource) (2.1.1)\n",
      "Requirement already satisfied: idna<4,>=2.5 in /Users/pratikqpranav/.pyenv/versions/3.9.13/lib/python3.9/site-packages (from requests>=2.21.0->azure-core<2.0.0,>=1.26.2->azure-mgmt-core>=1.3.2->azure-mgmt-resource) (3.4)\n",
      "Requirement already satisfied: urllib3<1.27,>=1.21.1 in /Users/pratikqpranav/.pyenv/versions/3.9.13/lib/python3.9/site-packages (from requests>=2.21.0->azure-core<2.0.0,>=1.26.2->azure-mgmt-core>=1.3.2->azure-mgmt-resource) (1.26.13)\n",
      "Requirement already satisfied: certifi>=2017.4.17 in /Users/pratikqpranav/.pyenv/versions/3.9.13/lib/python3.9/site-packages (from requests>=2.21.0->azure-core<2.0.0,>=1.26.2->azure-mgmt-core>=1.3.2->azure-mgmt-resource) (2022.12.7)\n",
      "\u001b[33mWARNING: Ignoring invalid distribution - (/Users/pratikqpranav/.pyenv/versions/3.9.13/lib/python3.9/site-packages)\u001b[0m\u001b[33m\n",
      "\u001b[0m\u001b[33mWARNING: Ignoring invalid distribution -irdai (/Users/pratikqpranav/.pyenv/versions/3.9.13/lib/python3.9/site-packages)\u001b[0m\u001b[33m\n",
      "\u001b[0m\u001b[33mWARNING: Ignoring invalid distribution -hirdai (/Users/pratikqpranav/.pyenv/versions/3.9.13/lib/python3.9/site-packages)\u001b[0m\u001b[33m\n",
      "\u001b[0m\u001b[33mWARNING: Ignoring invalid distribution -umpy (/Users/pratikqpranav/.pyenv/versions/3.9.13/lib/python3.9/site-packages)\u001b[0m\u001b[33m\n",
      "\u001b[0m\u001b[33mWARNING: Ignoring invalid distribution -irdai (/Users/pratikqpranav/.pyenv/versions/3.9.13/lib/python3.9/site-packages)\u001b[0m\u001b[33m\n",
      "\u001b[0mInstalling collected packages: azure-common, typing-extensions, isodate, azure-core, azure-mgmt-core, azure-mgmt-resource\n",
      "  Attempting uninstall: typing-extensions\n",
      "    Found existing installation: typing_extensions 4.4.0\n",
      "    Uninstalling typing_extensions-4.4.0:\n",
      "      Successfully uninstalled typing_extensions-4.4.0\n",
      "Successfully installed azure-common-1.1.28 azure-core-1.30.2 azure-mgmt-core-1.4.0 azure-mgmt-resource-23.1.1 isodate-0.6.1 typing-extensions-4.12.2\n",
      "\n",
      "\u001b[1m[\u001b[0m\u001b[34;49mnotice\u001b[0m\u001b[1;39;49m]\u001b[0m\u001b[39;49m A new release of pip is available: \u001b[0m\u001b[31;49m23.1.2\u001b[0m\u001b[39;49m -> \u001b[0m\u001b[32;49m24.0\u001b[0m\n",
      "\u001b[1m[\u001b[0m\u001b[34;49mnotice\u001b[0m\u001b[1;39;49m]\u001b[0m\u001b[39;49m To update, run: \u001b[0m\u001b[32;49mpip install --upgrade pip\u001b[0m\n"
     ]
    }
   ],
   "source": [
    "!python3 -m pip install azure-mgmt-resource\n",
    "!python3 -m pip install azure-mgmt-network\n",
    "!python3 -m pip install azure-mgmt-compute\n",
    "!python3 -m pip install azure-mgmt-compute\n"
   ]
  },
  {
   "cell_type": "code",
   "execution_count": null,
   "metadata": {},
   "outputs": [],
   "source": []
  }
 ],
 "metadata": {
  "kernelspec": {
   "display_name": "Python 3",
   "language": "python",
   "name": "python3"
  },
  "language_info": {
   "codemirror_mode": {
    "name": "ipython",
    "version": 3
   },
   "file_extension": ".py",
   "mimetype": "text/x-python",
   "name": "python",
   "nbconvert_exporter": "python",
   "pygments_lexer": "ipython3",
   "version": "3.9.13"
  }
 },
 "nbformat": 4,
 "nbformat_minor": 2
}
